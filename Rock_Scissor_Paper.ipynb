{
  "nbformat": 4,
  "nbformat_minor": 0,
  "metadata": {
    "colab": {
      "provenance": [],
      "authorship_tag": "ABX9TyP652mGjIPZ8vvoAsdKtI+V",
      "include_colab_link": true
    },
    "kernelspec": {
      "name": "python3",
      "display_name": "Python 3"
    },
    "language_info": {
      "name": "python"
    }
  },
  "cells": [
    {
      "cell_type": "markdown",
      "metadata": {
        "id": "view-in-github",
        "colab_type": "text"
      },
      "source": [
        "<a href=\"https://colab.research.google.com/github/figureandfacts/First-Project_Game/blob/main/Rock_Scissor_Paper.ipynb\" target=\"_parent\"><img src=\"https://colab.research.google.com/assets/colab-badge.svg\" alt=\"Open In Colab\"/></a>"
      ]
    },
    {
      "cell_type": "markdown",
      "source": [
        "# **My first Project : Rock Scissor Paper Game**"
      ],
      "metadata": {
        "id": "NU6YZT7vhwcB"
      }
    },
    {
      "cell_type": "code",
      "execution_count": null,
      "metadata": {
        "colab": {
          "base_uri": "https://localhost:8080/"
        },
        "id": "Rrur8NO69lQ4",
        "outputId": "13c43ed9-bda5-4484-ae2a-9cf709b6cde6"
      },
      "outputs": [
        {
          "output_type": "stream",
          "name": "stdout",
          "text": [
            "Your Turn\n",
            "choose:\n",
            " r for ROCK    [0]\n",
            " p for PAPER   [--]\n",
            " s for SCISSOR [8<]\n",
            "s\n",
            " You chosen SCISSOR \n",
            " Computer chosen PAPER \n",
            " You Win\n"
          ]
        }
      ],
      "source": [
        "import random\n",
        "def f():\n",
        "    print(\"Your Turn\")\n",
        "    print(\"choose:\\n r for ROCK    [0]\\n p for PAPER   [--]\\n s for SCISSOR [8<]\")\n",
        "    u = input()\n",
        "    a = ['r','p','s']\n",
        "    c = random.choice(a)\n",
        "    \n",
        "    if u=='r':\n",
        "        if c=='r':\n",
        "            print(\" You both chosen ROCK \\n Its a DRAW\")\n",
        "        elif c=='p':\n",
        "            print(\" You chosen ROCK \\n Computer chosen PAPER \\n You Lose\")\n",
        "        elif c=='s':\n",
        "            print(\" You chosen ROCK \\n Computer chosen SCISSOR \\n You Win\")\n",
        "    elif u=='p':\n",
        "        if c=='p':\n",
        "            print(\" You both chosen PAPER \\n Its a DRAW\")\n",
        "        elif c=='r':\n",
        "            print(\" You chosen PAPER \\n Computer chosen ROCK \\n You Win\")\n",
        "        elif c=='s':\n",
        "            print(\" You chosen PAPER \\n Computer chosen SCISSOR \\n You Lose\")\n",
        "    elif u=='s':\n",
        "        if c=='s':\n",
        "            print(\" You both chosen SCISSOR \\n Its a DRAW\")\n",
        "        elif c=='p':\n",
        "            print(\" You chosen SCISSOR \\n Computer chosen PAPER \\n You Win\")\n",
        "        elif c=='r':\n",
        "            print(\" You chosen SCISSOR \\n Computer chosen ROCK \\n You Lose\")\n",
        "    else:\n",
        "        print(\"Please chose the right option this time\")\n",
        "        f()\n",
        "\n",
        "f()"
      ]
    },
    {
      "cell_type": "code",
      "source": [],
      "metadata": {
        "id": "wQYeOynn9025"
      },
      "execution_count": null,
      "outputs": []
    }
  ]
}